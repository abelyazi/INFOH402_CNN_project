{
 "cells": [
  {
   "cell_type": "markdown",
   "metadata": {
    "id": "0WhEvDa5zBYP"
   },
   "source": [
    "# Import "
   ]
  },
  {
   "cell_type": "code",
   "execution_count": 1,
   "metadata": {
    "id": "JuHQBCAMxprT"
   },
   "outputs": [],
   "source": [
    "import os\n",
    "import numpy as np\n",
    "import pandas as pd\n",
    "import tensorflow as tf\n",
    "from tensorflow.keras.preprocessing.image import ImageDataGenerator\n",
    "import matplotlib.pyplot as plt\n",
    "import PIL\n",
    "from pathlib import Path\n",
    "import random\n",
    "import glob\n",
    "import shutil\n",
    "import os\n",
    "import cv2\n"
   ]
  },
  {
   "cell_type": "code",
   "execution_count": 3,
   "metadata": {
    "id": "EPByzU0KxugD"
   },
   "outputs": [],
   "source": [
    "AUTOTUNE = tf.data.experimental.AUTOTUNE\n",
    "IMAGE_SIZE = [176, 208]\n",
    "EPOCHS = 100"
   ]
  },
  {
   "cell_type": "code",
   "execution_count": 4,
   "metadata": {
    "colab": {
     "base_uri": "https://localhost:8080/"
    },
    "id": "8ZhVVm3Ixz4E",
    "outputId": "f88f6901-42a2-46ca-af77-db7e3bb72889"
   },
   "outputs": [
    {
     "name": "stdout",
     "output_type": "stream",
     "text": [
      "Mounted at /content/drive\n"
     ]
    }
   ],
   "source": [
    "from google.colab import drive\n",
    "drive.mount('/content/drive')"
   ]
  },
  {
   "cell_type": "markdown",
   "metadata": {
    "id": "xpos_a1fyuJW"
   },
   "source": [
    "# Downsampling Dataset"
   ]
  },
  {
   "cell_type": "markdown",
   "metadata": {
    "id": "F9yuEWEa1HZN"
   },
   "source": [
    "Saving path of orginal dataset directory and downsampled dataset directory"
   ]
  },
  {
   "cell_type": "code",
   "execution_count": 5,
   "metadata": {
    "id": "D2-MdeV1yEVq"
   },
   "outputs": [],
   "source": [
    "path_origin_ds = r\"/content/drive/MyDrive/Colab Notebooks/Alzheimer_s Dataset/\"\n",
    "path_dwn_samp_ds = r\"/content/drive/MyDrive/Colab Notebooks/Downsampled_dataset/\""
   ]
  },
  {
   "cell_type": "markdown",
   "metadata": {
    "id": "FBQNJ01Bz8t3"
   },
   "source": [
    "Copying the orginal dataset into the downsampled dataset directory\n"
   ]
  },
  {
   "cell_type": "code",
   "execution_count": 7,
   "metadata": {
    "colab": {
     "base_uri": "https://localhost:8080/",
     "height": 35
    },
    "id": "1MVVMlamz41P",
    "outputId": "0dc2f1dd-68b1-4990-f31f-f8913b06d7f8"
   },
   "outputs": [
    {
     "data": {
      "application/vnd.google.colaboratory.intrinsic+json": {
       "type": "string"
      },
      "text/plain": [
       "'/content/drive/MyDrive/Colab Notebooks/Downsampled_dataset/'"
      ]
     },
     "execution_count": 7,
     "metadata": {},
     "output_type": "execute_result"
    }
   ],
   "source": [
    "shutil.copytree(path_origin_ds, path_dwn_samp_ds)"
   ]
  },
  {
   "cell_type": "markdown",
   "metadata": {
    "id": "WkzmwoqC0sZ1"
   },
   "source": [
    "Check the number of images in each directory to determine which are the majority classes"
   ]
  },
  {
   "cell_type": "code",
   "execution_count": 9,
   "metadata": {
    "colab": {
     "base_uri": "https://localhost:8080/"
    },
    "id": "XdTsxR950oFp",
    "outputId": "f947f87b-2067-4809-cd6d-0a317cc3895f"
   },
   "outputs": [
    {
     "name": "stdout",
     "output_type": "stream",
     "text": [
      "      1792 images in /content/drive/MyDrive/Colab Notebooks/Downsampled_dataset/train/VeryMildDemented\n",
      "      52 images in /content/drive/MyDrive/Colab Notebooks/Downsampled_dataset/train/ModerateDemented\n",
      "      717 images in /content/drive/MyDrive/Colab Notebooks/Downsampled_dataset/train/MildDemented\n",
      "      2560 images in /content/drive/MyDrive/Colab Notebooks/Downsampled_dataset/train/NonDemented\n"
     ]
    }
   ],
   "source": [
    "for dirname, _, _ in os.walk(path_dwn_samp_ds+\"train/\"):\n",
    "    if dirname != path_dwn_samp_ds+\"train/\":\n",
    "        print('     ',len(os.listdir(dirname)), 'images in', dirname)"
   ]
  },
  {
   "cell_type": "markdown",
   "metadata": {
    "id": "XrahFSEM1wgo"
   },
   "source": [
    "Saving the directory path of each class of images"
   ]
  },
  {
   "cell_type": "code",
   "execution_count": 7,
   "metadata": {
    "id": "f6eqnaDV0Xhe"
   },
   "outputs": [],
   "source": [
    "path_VMDem = path_dwn_samp_ds+\"train/VeryMildDemented/\"\n",
    "path_ModDem = path_dwn_samp_ds+\"train/ModerateDemented/\"\n",
    "path_MilDem = path_dwn_samp_ds+\"train/MildDemented/\"\n",
    "path_NonDem = path_dwn_samp_ds+\"train/NonDemented/\""
   ]
  },
  {
   "cell_type": "markdown",
   "metadata": {
    "id": "tc9zup0F2q5L"
   },
   "source": [
    "We reduce (by selecting randomly the images to remove) the number of images of the VeryMildDemented class and the NonDemented class to reach the number of images of the MildDemented class"
   ]
  },
  {
   "cell_type": "code",
   "execution_count": 8,
   "metadata": {
    "id": "zal_u8w42mX1"
   },
   "outputs": [],
   "source": [
    "def delete_images(directory, number_of_images):\n",
    "    images = os.listdir(directory)\n",
    "    for image in random.sample(images, number_of_images):\n",
    "        path_file = directory + image\n",
    "        os.remove(path_file)\n",
    "\n",
    "goal_nb_im = len(os.listdir(path_MilDem))\n",
    "nb_VMDem_to_delete = -(goal_nb_im - len(os.listdir(path_VMDem)))\n",
    "nb_NonDem_to_delete = -(goal_nb_im - len(os.listdir(path_NonDem)))\n",
    "\n",
    "#delete_images(path_VMDem, nb_VMDem_to_delete)\n",
    "#delete_images(path_NonDem,nb_NonDem_to_delete)\n"
   ]
  },
  {
   "cell_type": "markdown",
   "metadata": {
    "id": "l9j6kReG4Jt7"
   },
   "source": [
    "Check that the images are correctly removed"
   ]
  },
  {
   "cell_type": "code",
   "execution_count": 13,
   "metadata": {
    "colab": {
     "base_uri": "https://localhost:8080/"
    },
    "id": "9N7vCK0u35-t",
    "outputId": "4ccf7bf4-eb22-47bc-8f53-da936a7a448e"
   },
   "outputs": [
    {
     "name": "stdout",
     "output_type": "stream",
     "text": [
      "      717 images in /content/drive/MyDrive/Colab Notebooks/Downsampled_dataset/train/VeryMildDemented\n",
      "      52 images in /content/drive/MyDrive/Colab Notebooks/Downsampled_dataset/train/ModerateDemented\n",
      "      717 images in /content/drive/MyDrive/Colab Notebooks/Downsampled_dataset/train/MildDemented\n",
      "      717 images in /content/drive/MyDrive/Colab Notebooks/Downsampled_dataset/train/NonDemented\n"
     ]
    }
   ],
   "source": [
    "for dirname, _, _ in os.walk(path_dwn_samp_ds+\"train/\"):\n",
    "    if dirname != path_dwn_samp_ds+\"train/\":\n",
    "        print('     ',len(os.listdir(dirname)), 'images in', dirname)"
   ]
  },
  {
   "cell_type": "markdown",
   "metadata": {
    "id": "OIuLI2R_4fdJ"
   },
   "source": [
    "# Oversampling the dataset"
   ]
  },
  {
   "cell_type": "code",
   "execution_count": 10,
   "metadata": {
    "id": "gjToPUMO4H4-"
   },
   "outputs": [],
   "source": [
    "path_ovr_samp_ds = r\"/content/drive/MyDrive/Colab Notebooks/Oversampled_dataset/\""
   ]
  },
  {
   "cell_type": "code",
   "execution_count": 18,
   "metadata": {
    "colab": {
     "base_uri": "https://localhost:8080/",
     "height": 35
    },
    "id": "H2buHb2-401X",
    "outputId": "cddf1461-04c4-4449-d6d4-b372489cb6a5"
   },
   "outputs": [
    {
     "data": {
      "application/vnd.google.colaboratory.intrinsic+json": {
       "type": "string"
      },
      "text/plain": [
       "'/content/drive/MyDrive/Colab Notebooks/Oversampled_dataset/'"
      ]
     },
     "execution_count": 18,
     "metadata": {},
     "output_type": "execute_result"
    }
   ],
   "source": [
    "shutil.copytree(path_origin_ds, path_ovr_samp_ds)"
   ]
  },
  {
   "cell_type": "code",
   "execution_count": 19,
   "metadata": {
    "colab": {
     "base_uri": "https://localhost:8080/"
    },
    "id": "ExgHN7CG48bm",
    "outputId": "8bf2b635-bf1d-4cba-a5c8-d8218bfd25e7"
   },
   "outputs": [
    {
     "name": "stdout",
     "output_type": "stream",
     "text": [
      "      1792 images in /content/drive/MyDrive/Colab Notebooks/Oversampled_dataset/train/VeryMildDemented\n",
      "      52 images in /content/drive/MyDrive/Colab Notebooks/Oversampled_dataset/train/ModerateDemented\n",
      "      717 images in /content/drive/MyDrive/Colab Notebooks/Oversampled_dataset/train/MildDemented\n",
      "      2560 images in /content/drive/MyDrive/Colab Notebooks/Oversampled_dataset/train/NonDemented\n"
     ]
    }
   ],
   "source": [
    "for dirname, _, _ in os.walk(path_ovr_samp_ds+\"train/\"):\n",
    "    if dirname != path_ovr_samp_ds+\"train/\":\n",
    "        print('     ',len(os.listdir(dirname)), 'images in', dirname)"
   ]
  },
  {
   "cell_type": "code",
   "execution_count": 20,
   "metadata": {
    "id": "fFS-is1A5b25"
   },
   "outputs": [],
   "source": [
    "path_VMDem = path_ovr_samp_ds+\"train/VeryMildDemented/\"\n",
    "path_ModDem = path_ovr_samp_ds+\"train/ModerateDemented/\"\n",
    "path_MilDem = path_ovr_samp_ds+\"train/MildDemented/\"\n",
    "path_NonDem = path_ovr_samp_ds+\"train/NonDemented/\""
   ]
  },
  {
   "cell_type": "markdown",
   "metadata": {
    "id": "7Yl7WNWH6Lqu"
   },
   "source": [
    "Define how we augment the images"
   ]
  },
  {
   "cell_type": "code",
   "execution_count": 97,
   "metadata": {
    "id": "J9ztU_Xl5lPp"
   },
   "outputs": [],
   "source": [
    "\n",
    "def augment(img_pth):\n",
    "  im = cv2.imread(img_pth)\n",
    "  im = tf.image.random_flip_left_right(im)\n",
    "  r = random.randint(1,4)\n",
    "  im = tf.image.rot90(im,k=r)\n",
    "  im = tf.image.random_brightness(im, max_delta=0.1)\n",
    "  return im\n"
   ]
  },
  {
   "cell_type": "markdown",
   "metadata": {
    "id": "eP4MhPGBbOGr"
   },
   "source": [
    "We augment the images of the MildDemented class by calling the following cell once to reach more ore less 1500 images in this class"
   ]
  },
  {
   "cell_type": "code",
   "execution_count": 114,
   "metadata": {
    "id": "kFt3z5yp6XOY"
   },
   "outputs": [],
   "source": [
    "\n",
    "list_im = os.listdir(path_MilDem)\n",
    "\n",
    "for img in list_im:\n",
    "  im_path = path_MilDem+img\n",
    "  augmented_im = augment(im_path)\n",
    "  cv2.imwrite(path_MilDem + \"(augm)\" + img, augmented_im.numpy())\n"
   ]
  },
  {
   "cell_type": "markdown",
   "metadata": {
    "id": "U3hiVGX4h7kj"
   },
   "source": [
    "We augment the images of the ModerateDemented class by calling the following cell log2(1500/50) times until we reach more or less 1500 images for this class"
   ]
  },
  {
   "cell_type": "code",
   "execution_count": 129,
   "metadata": {
    "colab": {
     "base_uri": "https://localhost:8080/"
    },
    "id": "lHyRgQ_WiOAo",
    "outputId": "0931bfe6-b1b5-4014-e373-b83e891242f8"
   },
   "outputs": [
    {
     "name": "stdout",
     "output_type": "stream",
     "text": [
      "1218\n"
     ]
    }
   ],
   "source": [
    "list_im = os.listdir(path_ModDem)\n",
    "print(len(list_im))\n",
    "for img in list_im:\n",
    "  im_path = path_ModDem + img\n",
    "  augmented_im = augment(im_path)\n",
    "  rdm = random.randint(1,20)\n",
    "  cv2.imwrite(path_ModDem + \"(augm)\" + str(rdm) + img, augmented_im.numpy())"
   ]
  },
  {
   "cell_type": "markdown",
   "metadata": {
    "id": "N6_ybox7woKj"
   },
   "source": [
    "We downsample the number of images of the majority classes to reach more or less 1500 images"
   ]
  },
  {
   "cell_type": "code",
   "execution_count": 131,
   "metadata": {
    "id": "Mq4COqFak45F"
   },
   "outputs": [],
   "source": [
    "delete_images(path_VMDem, 200)\n",
    "delete_images(path_NonDem,1000)"
   ]
  },
  {
   "cell_type": "markdown",
   "metadata": {
    "id": "Y4JKqRexxCxr"
   },
   "source": [
    "We check the number of images for the Oversampled dataset"
   ]
  },
  {
   "cell_type": "code",
   "execution_count": 11,
   "metadata": {
    "colab": {
     "base_uri": "https://localhost:8080/"
    },
    "id": "r_rn1Yl8xB6n",
    "outputId": "aa818547-8516-4fdf-f1ae-9512d2839d40"
   },
   "outputs": [
    {
     "name": "stdout",
     "output_type": "stream",
     "text": [
      "      1592 images in /content/drive/MyDrive/Colab Notebooks/Oversampled_dataset/train/VeryMildDemented\n",
      "      1576 images in /content/drive/MyDrive/Colab Notebooks/Oversampled_dataset/train/ModerateDemented\n",
      "      1560 images in /content/drive/MyDrive/Colab Notebooks/Oversampled_dataset/train/NonDemented\n",
      "      1438 images in /content/drive/MyDrive/Colab Notebooks/Oversampled_dataset/train/MildDemented\n"
     ]
    }
   ],
   "source": [
    "for dirname, _, _ in os.walk(path_ovr_samp_ds+\"train/\"):\n",
    "    if dirname != path_ovr_samp_ds+\"train/\":\n",
    "        print('     ',len(os.listdir(dirname)), 'images in', dirname)"
   ]
  }
 ],
 "metadata": {
  "colab": {
   "name": "Creation of down/over sampled dataset.ipynb",
   "provenance": []
  },
  "gpuClass": "standard",
  "kernelspec": {
   "display_name": "Python 3 (ipykernel)",
   "language": "python",
   "name": "python3"
  },
  "language_info": {
   "codemirror_mode": {
    "name": "ipython",
    "version": 3
   },
   "file_extension": ".py",
   "mimetype": "text/x-python",
   "name": "python",
   "nbconvert_exporter": "python",
   "pygments_lexer": "ipython3",
   "version": "3.9.7"
  }
 },
 "nbformat": 4,
 "nbformat_minor": 1
}
